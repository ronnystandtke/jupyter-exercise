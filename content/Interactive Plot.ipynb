{
  "metadata": {
    "language_info": {
      "codemirror_mode": {
        "name": "python",
        "version": 3
      },
      "file_extension": ".py",
      "mimetype": "text/x-python",
      "name": "python",
      "nbconvert_exporter": "python",
      "pygments_lexer": "ipython3",
      "version": "3.8"
    },
    "kernelspec": {
      "name": "python",
      "display_name": "Python (Pyodide)",
      "language": "python"
    }
  },
  "nbformat_minor": 4,
  "nbformat": 4,
  "cells": [
    {
      "cell_type": "markdown",
      "source": "# Interaktiver Plot einer Funktion",
      "metadata": {}
    },
    {
      "cell_type": "code",
      "source": "try:\n    import piplite\n    await piplite.install(['ipywidgets==8.0.5'])\nexcept ImportError:\n    pass\n\n%matplotlib inline\nfrom ipywidgets import interactive\nimport matplotlib.pyplot as plt\nimport numpy as np\n\ndef f(a, b):\n    x = np.linspace(-10, 10, num=1000)\n    plt.plot(x, a * x + b)\n    plt.title(\"$f(x)=a \\cdot x + b$\")\n    plt.ylim(-5, 5)\n    plt.show()\n\ninteractive_plot = interactive(f, a=(-2.0, 2.0), b=(-3, 3, 0.5))\noutput = interactive_plot.children[-1]\ndisplay(interactive_plot)",
      "metadata": {
        "tags": [],
        "trusted": true
      },
      "execution_count": null,
      "outputs": []
    },
    {
      "cell_type": "code",
      "source": "",
      "metadata": {},
      "execution_count": null,
      "outputs": []
    }
  ]
}