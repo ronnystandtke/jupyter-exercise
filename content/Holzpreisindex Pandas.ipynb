{
  "metadata": {
    "language_info": {
      "codemirror_mode": {
        "name": "python",
        "version": 3
      },
      "file_extension": ".py",
      "mimetype": "text/x-python",
      "name": "python",
      "nbconvert_exporter": "python",
      "pygments_lexer": "ipython3",
      "version": "3.8"
    },
    "kernelspec": {
      "name": "python",
      "display_name": "Python (Pyodide)",
      "language": "python"
    }
  },
  "nbformat_minor": 4,
  "nbformat": 4,
  "cells": [
    {
      "cell_type": "code",
      "source": "from js import fetch\n\nURL = \"https://raw.githubusercontent.com/ronnystandtke/jupyter-exercises/main/content/Holzpreisindex.csv\"\nres = await fetch(URL)\ntext = await res.text()\n\nfilename = 'data.csv'\n\nwith open(filename, 'w') as f:\n    f.write(text)",
      "metadata": {
        "trusted": true
      },
      "execution_count": 1,
      "outputs": []
    },
    {
      "cell_type": "code",
      "source": "import pandas as pd\n\ndataFrame = pd.read_csv(filename, sep=';')\ndataFrame",
      "metadata": {
        "trusted": true
      },
      "execution_count": 2,
      "outputs": [
        {
          "execution_count": 2,
          "output_type": "execute_result",
          "data": {
            "text/plain": "   Periode,Baumaterialien Holz,Hilfsmaterialien Holz,Verpackungen Holz\n0                              1_11,108.3,108.4,130.6                 \n1                              2_11,106.9,108.8,132.6                 \n2                              3_11,107.0,107.8,128.8                 \n3                              4_11,105.9,108.7,126.9                 \n4                              5_11,104.6,107.8,125.2                 \n..                                                ...                 \n56                              3_20,100.1,99.2,101.6                 \n57                              4_20,99.6,100.0,100.0                 \n58                             5_20,100.0,100.0,100.0                 \n59                              6_20,101.6,99.8,100.3                 \n60                              1_21,102.6,99.3,105.4                 \n\n[61 rows x 1 columns]",
            "text/html": "<div>\n<style scoped>\n    .dataframe tbody tr th:only-of-type {\n        vertical-align: middle;\n    }\n\n    .dataframe tbody tr th {\n        vertical-align: top;\n    }\n\n    .dataframe thead th {\n        text-align: right;\n    }\n</style>\n<table border=\"1\" class=\"dataframe\">\n  <thead>\n    <tr style=\"text-align: right;\">\n      <th></th>\n      <th>Periode,Baumaterialien Holz,Hilfsmaterialien Holz,Verpackungen Holz</th>\n    </tr>\n  </thead>\n  <tbody>\n    <tr>\n      <th>0</th>\n      <td>1_11,108.3,108.4,130.6</td>\n    </tr>\n    <tr>\n      <th>1</th>\n      <td>2_11,106.9,108.8,132.6</td>\n    </tr>\n    <tr>\n      <th>2</th>\n      <td>3_11,107.0,107.8,128.8</td>\n    </tr>\n    <tr>\n      <th>3</th>\n      <td>4_11,105.9,108.7,126.9</td>\n    </tr>\n    <tr>\n      <th>4</th>\n      <td>5_11,104.6,107.8,125.2</td>\n    </tr>\n    <tr>\n      <th>...</th>\n      <td>...</td>\n    </tr>\n    <tr>\n      <th>56</th>\n      <td>3_20,100.1,99.2,101.6</td>\n    </tr>\n    <tr>\n      <th>57</th>\n      <td>4_20,99.6,100.0,100.0</td>\n    </tr>\n    <tr>\n      <th>58</th>\n      <td>5_20,100.0,100.0,100.0</td>\n    </tr>\n    <tr>\n      <th>59</th>\n      <td>6_20,101.6,99.8,100.3</td>\n    </tr>\n    <tr>\n      <th>60</th>\n      <td>1_21,102.6,99.3,105.4</td>\n    </tr>\n  </tbody>\n</table>\n<p>61 rows × 1 columns</p>\n</div>"
          },
          "metadata": {}
        }
      ]
    },
    {
      "cell_type": "code",
      "source": "",
      "metadata": {},
      "execution_count": null,
      "outputs": []
    }
  ]
}