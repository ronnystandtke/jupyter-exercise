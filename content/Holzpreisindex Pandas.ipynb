{
  "metadata": {
    "language_info": {
      "codemirror_mode": {
        "name": "python",
        "version": 3
      },
      "file_extension": ".py",
      "mimetype": "text/x-python",
      "name": "python",
      "nbconvert_exporter": "python",
      "pygments_lexer": "ipython3",
      "version": "3.8"
    },
    "kernelspec": {
      "name": "python",
      "display_name": "Python (Pyodide)",
      "language": "python"
    }
  },
  "nbformat_minor": 4,
  "nbformat": 4,
  "cells": [
    {
      "cell_type": "code",
      "source": "# this workaround is needed because of\n# https://github.com/jupyterlite/jupyterlite/issues/119\n\nfrom js import fetch\n\nURL = \"https://raw.githubusercontent.com/ronnystandtke/jupyter-exercises/main/content/Holzpreisindex.csv\"\nres = await fetch(URL)\ntext = await res.text()\n\nfilename = 'data.csv'\n\nwith open(filename, 'w') as f:\n    f.write(text)",
      "metadata": {
        "tags": [],
        "jupyter": {
          "source_hidden": true
        },
        "trusted": true
      },
      "execution_count": 1,
      "outputs": []
    },
    {
      "cell_type": "code",
      "source": "import pandas as pd\n\ndataFrame = pd.read_csv(filename)\ndataFrame",
      "metadata": {
        "trusted": true
      },
      "execution_count": 3,
      "outputs": [
        {
          "execution_count": 3,
          "output_type": "execute_result",
          "data": {
            "text/plain": "   Periode  Baumaterialien Holz  Hilfsmaterialien Holz  Verpackungen Holz\n0     1_11                108.3                  108.4              130.6\n1     2_11                106.9                  108.8              132.6\n2     3_11                107.0                  107.8              128.8\n3     4_11                105.9                  108.7              126.9\n4     5_11                104.6                  107.8              125.2\n..     ...                  ...                    ...                ...\n56    3_20                100.1                   99.2              101.6\n57    4_20                 99.6                  100.0              100.0\n58    5_20                100.0                  100.0              100.0\n59    6_20                101.6                   99.8              100.3\n60    1_21                102.6                   99.3              105.4\n\n[61 rows x 4 columns]",
            "text/html": "<div>\n<style scoped>\n    .dataframe tbody tr th:only-of-type {\n        vertical-align: middle;\n    }\n\n    .dataframe tbody tr th {\n        vertical-align: top;\n    }\n\n    .dataframe thead th {\n        text-align: right;\n    }\n</style>\n<table border=\"1\" class=\"dataframe\">\n  <thead>\n    <tr style=\"text-align: right;\">\n      <th></th>\n      <th>Periode</th>\n      <th>Baumaterialien Holz</th>\n      <th>Hilfsmaterialien Holz</th>\n      <th>Verpackungen Holz</th>\n    </tr>\n  </thead>\n  <tbody>\n    <tr>\n      <th>0</th>\n      <td>1_11</td>\n      <td>108.3</td>\n      <td>108.4</td>\n      <td>130.6</td>\n    </tr>\n    <tr>\n      <th>1</th>\n      <td>2_11</td>\n      <td>106.9</td>\n      <td>108.8</td>\n      <td>132.6</td>\n    </tr>\n    <tr>\n      <th>2</th>\n      <td>3_11</td>\n      <td>107.0</td>\n      <td>107.8</td>\n      <td>128.8</td>\n    </tr>\n    <tr>\n      <th>3</th>\n      <td>4_11</td>\n      <td>105.9</td>\n      <td>108.7</td>\n      <td>126.9</td>\n    </tr>\n    <tr>\n      <th>4</th>\n      <td>5_11</td>\n      <td>104.6</td>\n      <td>107.8</td>\n      <td>125.2</td>\n    </tr>\n    <tr>\n      <th>...</th>\n      <td>...</td>\n      <td>...</td>\n      <td>...</td>\n      <td>...</td>\n    </tr>\n    <tr>\n      <th>56</th>\n      <td>3_20</td>\n      <td>100.1</td>\n      <td>99.2</td>\n      <td>101.6</td>\n    </tr>\n    <tr>\n      <th>57</th>\n      <td>4_20</td>\n      <td>99.6</td>\n      <td>100.0</td>\n      <td>100.0</td>\n    </tr>\n    <tr>\n      <th>58</th>\n      <td>5_20</td>\n      <td>100.0</td>\n      <td>100.0</td>\n      <td>100.0</td>\n    </tr>\n    <tr>\n      <th>59</th>\n      <td>6_20</td>\n      <td>101.6</td>\n      <td>99.8</td>\n      <td>100.3</td>\n    </tr>\n    <tr>\n      <th>60</th>\n      <td>1_21</td>\n      <td>102.6</td>\n      <td>99.3</td>\n      <td>105.4</td>\n    </tr>\n  </tbody>\n</table>\n<p>61 rows × 4 columns</p>\n</div>"
          },
          "metadata": {}
        }
      ]
    },
    {
      "cell_type": "code",
      "source": "",
      "metadata": {},
      "execution_count": null,
      "outputs": []
    }
  ]
}